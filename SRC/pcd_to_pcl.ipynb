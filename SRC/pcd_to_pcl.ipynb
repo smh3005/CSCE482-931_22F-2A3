{
 "cells": [
  {
   "cell_type": "code",
   "execution_count": 17,
   "metadata": {},
   "outputs": [],
   "source": [
    "from plyfile import PlyData, PlyElement\n",
    "from pathlib import Path\n",
    "from pypcd import pypcd\n",
    "import numpy as np\n",
    "import os"
   ]
  },
  {
   "cell_type": "code",
   "execution_count": 18,
   "metadata": {},
   "outputs": [],
   "source": [
    "# also can read from file handles.\n",
    "frames_dir = os.path.join(\"data\", \"raw_pcd\", \"frames\")\n",
    "\n",
    "for filename in os.listdir(frames_dir):\n",
    "    pc = pypcd.PointCloud.from_path(os.path.join(frames_dir, filename))\n",
    "    el = PlyElement.describe(np.array(pc.pc_data, dtype=[('x', 'f4'), ('y', 'f4'), ('z', 'f4')]), \"vertex\")\n",
    "    PlyData([el], text=True).write(os.path.join(frames_dir, os.path.splitext(filename)[0]+\".ply\"))"
   ]
  }
 ],
 "metadata": {
  "kernelspec": {
   "display_name": "Python 3.9.2rc1 64-bit",
   "language": "python",
   "name": "python3"
  },
  "language_info": {
   "codemirror_mode": {
    "name": "ipython",
    "version": 3
   },
   "file_extension": ".py",
   "mimetype": "text/x-python",
   "name": "python",
   "nbconvert_exporter": "python",
   "pygments_lexer": "ipython3",
   "version": "3.9.2rc1"
  },
  "orig_nbformat": 4,
  "vscode": {
   "interpreter": {
    "hash": "cc564a3cb6085f9e490a43a352e93645c04a8dae775db31be5ca38e94de66831"
   }
  }
 },
 "nbformat": 4,
 "nbformat_minor": 2
}
